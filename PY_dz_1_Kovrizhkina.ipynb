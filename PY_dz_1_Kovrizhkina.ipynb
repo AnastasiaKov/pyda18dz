{
 "cells": [
  {
   "cell_type": "code",
   "execution_count": 21,
   "metadata": {},
   "outputs": [
    {
     "data": {
      "text/plain": [
       "False"
      ]
     },
     "execution_count": 21,
     "metadata": {},
     "output_type": "execute_result"
    }
   ],
   "source": [
    "# Задание 1\n",
    "phrase_1 = 'Я люблю апельсины'\n",
    "phrase_2 = 'Я люблю лимоны'\n",
    "if phrase_1 > phrase_2:\n",
    "    print('Фраза 1 длиннее фразы 2')\n",
    "elif phrase_1 < phrase_2:\n",
    "    print('Фраза 2 длиннее фразы 1')\n",
    "else:\n",
    "    print('Фразы равной длины')"
   ]
  },
  {
   "cell_type": "code",
   "execution_count": 5,
   "metadata": {},
   "outputs": [
    {
     "name": "stdout",
     "output_type": "stream",
     "text": [
      "Введите год2002\n",
      "Обычный год\n"
     ]
    }
   ],
   "source": [
    "# Задание 2\n",
    "year = int(input('Введите год'))\n",
    "if (year % 4 == 0) and (year % 100 != 0):\n",
    "    print('Високосный год')\n",
    "else:\n",
    "    print('Обычный год')"
   ]
  },
  {
   "cell_type": "code",
   "execution_count": 9,
   "metadata": {},
   "outputs": [
    {
     "name": "stdout",
     "output_type": "stream",
     "text": [
      "Введите день рождения5\n",
      "Введите месяц рождения в виде числа, без нуля, например: 1 (январь)5\n",
      "Телец\n"
     ]
    }
   ],
   "source": [
    "# Задание 3\n",
    "date = int(input('Введите день рождения'))\n",
    "month = int(input('Введите месяц рождения в виде числа, без нуля, например: 1 (январь)'))\n",
    "if month == 1 and date <= 20 or month == 12 and date >= 22 and date <= 31:\n",
    " print('Козерог')\n",
    "elif month == 2 and date <= 19 or month == 1 and date >= 21 and date <= 31:\n",
    "    print('Водолей')\n",
    "elif month == 3 and date <= 21 or month == 2 and date >= 20 and date <= 29:\n",
    "    print('Рыбы')\n",
    "elif month == 4 and date <= 19 or month == 3 and date >= 22 and date <= 31:\n",
    "    print('Овен')\n",
    "elif month == 5 and date <= 21 or month == 4 and date >= 20 and date <= 30:\n",
    "    print('Телец')\n",
    "elif month == 6 and date <= 21 or month == 5 and date >= 22 and date <= 31:\n",
    "    print('Близнецы')\n",
    "elif month == 7 and date <= 22 or month == 6 and date >= 22 and date <= 30:\n",
    "    print('Рак')\n",
    "elif month == 8 and date <= 22 or month == 7 and date >= 23 and date <= 31:\n",
    "    print('Лев')\n",
    "elif month == 9 and date <= 23 or month == 8 and date >= 23 and date <= 31:\n",
    "    print('Дева')\n",
    "elif month == 10 and date <= 23 or month == 9 and date >= 24 and date <= 30:\n",
    "    print('Весы')\n",
    "elif month == 11 and date <= 21 or month == 10 and date >= 24 and date <= 31:\n",
    "    print('Скорпион')\n",
    "elif month == 12 and date <= 21 or month == 11 and date >= 22 and date <= 30:\n",
    "    print('Стрелец')\n",
    "else:\n",
    "    print('Ввод неправилен, проверьте данные ещё раз')"
   ]
  },
  {
   "cell_type": "code",
   "execution_count": 12,
   "metadata": {},
   "outputs": [
    {
     "name": "stdout",
     "output_type": "stream",
     "text": [
      "Упаковка для лыж\n"
     ]
    }
   ],
   "source": [
    "# Задание 4\n",
    "width = 10\n",
    "length = 205\n",
    "height = 5\n",
    "if width < 15 and length < 15 and height < 15:\n",
    "    print('Коробка №1')\n",
    "elif width > 15 or length > 15 and length <= 200 or height > 15:\n",
    "    print('Коробка №2')\n",
    "elif length > 200:\n",
    "    print('Упаковка для лыж')\n",
    "else:\n",
    "    print('Стандартная коробка №3')"
   ]
  },
  {
   "cell_type": "code",
   "execution_count": null,
   "metadata": {},
   "outputs": [],
   "source": []
  }
 ],
 "metadata": {
  "kernelspec": {
   "display_name": "Python 3",
   "language": "python",
   "name": "python3"
  },
  "language_info": {
   "codemirror_mode": {
    "name": "ipython",
    "version": 3
   },
   "file_extension": ".py",
   "mimetype": "text/x-python",
   "name": "python",
   "nbconvert_exporter": "python",
   "pygments_lexer": "ipython3",
   "version": "3.8.3"
  }
 },
 "nbformat": 4,
 "nbformat_minor": 4
}
